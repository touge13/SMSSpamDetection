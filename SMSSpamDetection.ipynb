{
 "cells": [
  {
   "cell_type": "markdown",
   "metadata": {},
   "source": [
    "# Байесовский классификатор\n",
    "\n",
    "Байесовский классификатор — это метод классификации, основанный на применении теоремы Байеса с некоторыми предположениями о независимости признаков. Он используется для решения задач классификации, в частности, для фильтрации спама в электронных сообщениях.\n",
    "\n",
    "<h2 style=\"text-align: center;\">Теоретическая основа</h2>\n",
    "\n",
    "### Теорема Байеса\n",
    "\n",
    "Теорема Байеса описывает, как обновлять вероятность гипотезы, основываясь на новых данных. Формула выглядит следующим образом:\n",
    "\n",
    "$$\n",
    "P(C_k | x) = \\frac{P(x | C_k) \\cdot P(C_k)}{P(x)}\n",
    "$$\n",
    "\n",
    "где:\n",
    "\n",
    "- $P(C_k | x)$ — апостериорная вероятность класса $C_k$, при условии признака $x$.\n",
    "- $P(x | C_k)$ — правдоподобие (likelihood), то есть вероятность наблюдения признака $x$, при условии, что он принадлежит классу $C_k$.\n",
    "- $P(C_k)$ — априорная вероятность класса $C_k$.\n",
    "- $P(x)$ — маргинальная вероятность признака $x$.\n",
    "\n",
    "### Наивный Байесовский классификатор\n",
    "\n",
    "Наивный Байесовский классификатор предполагает, что все признаки в каждом классе независимы друг от друга. Это упрощает вычисления и позволяет использовать формулу:\n",
    "\n",
    "$$\n",
    "P(C_k | x_1, x_2, \\ldots, x_n) = \\frac{P(C_k) \\cdot \\prod_{i=1}^n P(x_i | C_k)}{P(x)}\n",
    "$$\n",
    "\n",
    "где:\n"
   ]
  },
  {
   "cell_type": "markdown",
   "metadata": {},
   "source": [
    "\n",
    "- $P(C_k | x_1, x_2, \\ldots, x_n)$ — апостериорная вероятность класса $C_k$ при условии признаков $x_1, x_2, \\ldots, x_n$.\n",
    "- $P(C_k)$ — априорная вероятность класса $C_k$.\n",
    "- $P(x_i | C_k)$ — вероятность признака $x_i$, при условии, что он принадлежит классу $C_k$.\n",
    "- $P(x)$ — маргинальная вероятность признака $x$, которая является нормирующим коэффициентом.\n",
    "\n",
    "\n",
    "**Логарифмы для численной стабильности**:\n",
    "   - В реализации Байесовского классификатора логарифмы вероятностей используются для избежания переполнения чисел и улучшения стабильности вычислений. Вычисления в логарифмическом пространстве также позволяют упростить умножение вероятностей в произведение сумм логарифмов.\n",
    "\n",
    "$$\n",
    "\\log P(C_k | x_1, x_2, \\ldots, x_n) = \\log P(C_k) + \\sum_{i=1}^n \\log P(x_i | C_k) - \\log P(x)\n",
    "$$\n",
    "\n",
    "$P(x)$ — это нормирующий коэффициент, его значение не влияет на относительные вероятности, только на их масштабирование.\n",
    "\n",
    "Так как $\\log P(x)$ является константой для данного текста и не зависит от класса, его можно игнорировать при сравнении вероятностей классов:\n",
    "\n",
    "$$\n",
    "P(C_{spam}) = \\frac{\\exp(\\log P(C_{spam}) + \\sum_{i=1}^n \\log P(x_i | C_{spam}))}{\\exp(\\log P(C_{spam}) + \\sum_{i=1}^n \\log P(x_i | C_{spam})) + \\exp(\\log P(C_{ham}) + \\sum_{i=1}^n \\log P(x_i | C_{ham}))}\n",
    "$$\n",
    "\n",
    "##### Почему мы должны поделить ${\\exp(\\log P(C_{spam}) + \\sum_{i=1}^n \\log P(x_i | C_{spam}))}$ на ${\\exp(\\log P(C_{spam}) + \\sum_{i=1}^n \\log P(x_i | C_{spam})) + \\exp(\\log P(C_{ham}) + \\sum_{i=1}^n \\log P(x_i | C_{ham}))}$, если в изначальной формуле у нас нет речи о делении: $\\log P(C_k | x_1, x_2, \\ldots, x_n) = \\log P(C_k) + \\sum_{i=1}^n \\log P(x_i | C_k) - \\log P(x)$ ?\n",
    "- Без деления мы получим просто значения, которые пропорциональны вероятностям, но не являются вероятностями в строгом смысле, так как их сумма не равна 1.\n",
    "- С делением на сумму экспонент логарифмов мы гарантируем, что полученные вероятности нормированы, и их сумма равна 1. Это делает их валидными вероятностями в контексте классификации.\n",
    "\n",
    "Таким образом, конечный результат представляет собой вероятность того, что текст относится к классу спам."
   ]
  },
  {
   "cell_type": "markdown",
   "metadata": {},
   "source": [
    "\n",
    "<h2 style=\"text-align: center;\">Практическая часть</h2>\n"
   ]
  },
  {
   "cell_type": "markdown",
   "metadata": {},
   "source": [
    "\n",
    "### Импорт библиотек"
   ]
  },
  {
   "cell_type": "code",
   "execution_count": 95,
   "metadata": {},
   "outputs": [],
   "source": [
    "import pandas as pd\n",
    "import numpy as np\n",
    "from sklearn.model_selection import train_test_split\n",
    "from sklearn.feature_extraction.text import CountVectorizer"
   ]
  },
  {
   "cell_type": "markdown",
   "metadata": {},
   "source": [
    "\n",
    "### Загрузка данных\n",
    "\n",
    "Мы загружаем данные и обрабатываем их:"
   ]
  },
  {
   "cell_type": "code",
   "execution_count": 96,
   "metadata": {},
   "outputs": [
    {
     "data": {
      "text/html": [
       "<div>\n",
       "<style scoped>\n",
       "    .dataframe tbody tr th:only-of-type {\n",
       "        vertical-align: middle;\n",
       "    }\n",
       "\n",
       "    .dataframe tbody tr th {\n",
       "        vertical-align: top;\n",
       "    }\n",
       "\n",
       "    .dataframe thead th {\n",
       "        text-align: right;\n",
       "    }\n",
       "</style>\n",
       "<table border=\"1\" class=\"dataframe\">\n",
       "  <thead>\n",
       "    <tr style=\"text-align: right;\">\n",
       "      <th></th>\n",
       "      <th>class</th>\n",
       "      <th>text</th>\n",
       "    </tr>\n",
       "  </thead>\n",
       "  <tbody>\n",
       "    <tr>\n",
       "      <th>0</th>\n",
       "      <td>ham</td>\n",
       "      <td>Go until jurong point, crazy.. Available only ...</td>\n",
       "    </tr>\n",
       "    <tr>\n",
       "      <th>1</th>\n",
       "      <td>ham</td>\n",
       "      <td>Ok lar... Joking wif u oni...</td>\n",
       "    </tr>\n",
       "    <tr>\n",
       "      <th>2</th>\n",
       "      <td>spam</td>\n",
       "      <td>Free entry in 2 a wkly comp to win FA Cup fina...</td>\n",
       "    </tr>\n",
       "    <tr>\n",
       "      <th>3</th>\n",
       "      <td>ham</td>\n",
       "      <td>U dun say so early hor... U c already then say...</td>\n",
       "    </tr>\n",
       "    <tr>\n",
       "      <th>4</th>\n",
       "      <td>ham</td>\n",
       "      <td>Nah I don't think he goes to usf, he lives aro...</td>\n",
       "    </tr>\n",
       "    <tr>\n",
       "      <th>...</th>\n",
       "      <td>...</td>\n",
       "      <td>...</td>\n",
       "    </tr>\n",
       "    <tr>\n",
       "      <th>5567</th>\n",
       "      <td>spam</td>\n",
       "      <td>This is the 2nd time we have tried 2 contact u...</td>\n",
       "    </tr>\n",
       "    <tr>\n",
       "      <th>5568</th>\n",
       "      <td>ham</td>\n",
       "      <td>Will Ì_ b going to esplanade fr home?</td>\n",
       "    </tr>\n",
       "    <tr>\n",
       "      <th>5569</th>\n",
       "      <td>ham</td>\n",
       "      <td>Pity, * was in mood for that. So...any other s...</td>\n",
       "    </tr>\n",
       "    <tr>\n",
       "      <th>5570</th>\n",
       "      <td>ham</td>\n",
       "      <td>The guy did some bitching but I acted like i'd...</td>\n",
       "    </tr>\n",
       "    <tr>\n",
       "      <th>5571</th>\n",
       "      <td>ham</td>\n",
       "      <td>Rofl. Its true to its name</td>\n",
       "    </tr>\n",
       "  </tbody>\n",
       "</table>\n",
       "<p>5572 rows × 2 columns</p>\n",
       "</div>"
      ],
      "text/plain": [
       "     class                                               text\n",
       "0      ham  Go until jurong point, crazy.. Available only ...\n",
       "1      ham                      Ok lar... Joking wif u oni...\n",
       "2     spam  Free entry in 2 a wkly comp to win FA Cup fina...\n",
       "3      ham  U dun say so early hor... U c already then say...\n",
       "4      ham  Nah I don't think he goes to usf, he lives aro...\n",
       "...    ...                                                ...\n",
       "5567  spam  This is the 2nd time we have tried 2 contact u...\n",
       "5568   ham              Will Ì_ b going to esplanade fr home?\n",
       "5569   ham  Pity, * was in mood for that. So...any other s...\n",
       "5570   ham  The guy did some bitching but I acted like i'd...\n",
       "5571   ham                         Rofl. Its true to its name\n",
       "\n",
       "[5572 rows x 2 columns]"
      ]
     },
     "execution_count": 96,
     "metadata": {},
     "output_type": "execute_result"
    }
   ],
   "source": [
    "data = pd.read_csv(\"spam.csv\", encoding=\"latin-1\")\n",
    "data.drop(data.iloc[:, 2:5], inplace=True, axis=1)\n",
    "data.rename(columns={\"v1\":\"class\", \"v2\":\"text\"}, inplace=True)\n",
    "data\n"
   ]
  },
  {
   "cell_type": "markdown",
   "metadata": {},
   "source": [
    "\n",
    "### Визуализация классов\n"
   ]
  },
  {
   "cell_type": "code",
   "execution_count": 97,
   "metadata": {},
   "outputs": [
    {
     "data": {
      "text/plain": [
       "<Axes: ylabel='count'>"
      ]
     },
     "execution_count": 97,
     "metadata": {},
     "output_type": "execute_result"
    },
    {
     "data": {
      "image/png": "[encoded data removed]",
      "text/plain": [
       "<Figure size 640x480 with 1 Axes>"
      ]
     },
     "metadata": {},
     "output_type": "display_data"
    }
   ],
   "source": [
    "data['class'].value_counts().plot.pie(autopct=\"%1.1f%%\")"
   ]
  },
  {
   "cell_type": "markdown",
   "metadata": {},
   "source": [
    "Заметим дисбаланс в наших данных.\n",
    "\n",
    "Если учесть следующий шаг: \n",
    "```Python\n",
    "self.p_spam = 0.134  # Вероятность появления сообщений класса спам = 13.4%\n",
    "self.p_ham = 0.866  #  Вероятность появления сообщений класса не спам = 86.6%\n",
    "```\n",
    "То априорные вероятности будут влиять на классификацию: при большом количестве \"ham\" сообщений классификатор будет более склонен считать новые сообщения не спамом (если сообщений \"ham\" значительно больше, модель будет понимать, что \"ham\" — это более вероятный класс.).\n",
    "\n",
    "\n",
    "Но мы оставим значения по умолчанию:\n",
    "```Python\n",
    "self.p_ham = 0.5\n",
    "self.p_spam = 0.5\n",
    "```\n",
    "Потому что мы хотим, чтобы модель одинаково серьёзно относилась к обеим категориям. Такой подход заставит модель не игнорировать спам (=редкий класс) и не будет делать явных предположений на основе того, что большинство сообщений — не спам. Таким образом, мы делаем пропуск спама более критичным."
   ]
  },
  {
   "cell_type": "markdown",
   "metadata": {},
   "source": [
    "\n",
    "### Разделение данных на обучающую и тестовую выборки\n"
   ]
  },
  {
   "cell_type": "code",
   "execution_count": 98,
   "metadata": {},
   "outputs": [],
   "source": [
    "x = data['text']\n",
    "y = data['class']\n",
    "x_train, x_test, y_train, y_test = train_test_split(x, y, test_size=0.2)"
   ]
  },
  {
   "cell_type": "markdown",
   "metadata": {},
   "source": [
    "\n",
    "### Реализация Байесовского классификатора\n"
   ]
  },
  {
   "cell_type": "markdown",
   "metadata": {},
   "source": [
    "Пара слов о CountVectorizer:\n",
    "\n",
    "с помощью метода CountVectorizer, строится словарь (матрица частот слов) и подсчитываются вероятности появления каждого слова для класса спам и не спам. Эти вероятности $P(x_i | C_{spam})$ и $P(x_i | C_{ham})$ получаются как отношение числа появлений слова к общему числу слов в спаме или не спаме. Мы также используем сглаживание Лапласа, чтобы избежать нулевых вероятностей, добавляя `alpha` к каждому счёту."
   ]
  },
  {
   "cell_type": "code",
   "execution_count": 99,
   "metadata": {},
   "outputs": [],
   "source": [
    "class BayesianClassifier:\n",
    "    def __init__(self, alpha=1):\n",
    "        \"\"\"\n",
    "        alpha - сглаживающий параметр Лапласа (по умолчанию 1).\n",
    "        \"\"\"\n",
    "        self.words = {}\n",
    "        self.p_ham = 0.5\n",
    "        self.p_spam = 0.5\n",
    "        self.alpha = alpha  # Параметр Лапласа (используется для сглаживания вероятностей слов, чтобы избежать нулевых вероятностей.)\n",
    "\n",
    "    def fit(self, texts, labels, token_pattern=r\"(?u)\\b\\w\\w+\\b\"):\n",
    "        \"\"\"\n",
    "        texts - список текстов для обучения.\n",
    "        labels - метки классов (спам/хам).\n",
    "        token_pattern - регулярное выражение для извлечения токенов (по умолчанию слова из 2+ букв).\n",
    "        \"\"\"\n",
    "        # Подсчёт вероятностей классов\n",
    "        label_counts = labels.value_counts(normalize=True)\n",
    "        self.p_spam = label_counts.get('spam', 0.5)\n",
    "        self.p_ham = 1 - self.p_spam\n",
    "\n",
    "        # Векторизация текстов\n",
    "        vectorizer = CountVectorizer(token_pattern=token_pattern)\n",
    "        x = vectorizer.fit_transform(texts).toarray()\n",
    "        self.words = vectorizer.get_feature_names_out()\n",
    "        \n",
    "        # Разделение на спам/хам тексты\n",
    "        spam_texts = x[np.array(labels) == 'spam']\n",
    "        ham_texts = x[np.array(labels) == 'ham']\n",
    "        \n",
    "        # Подсчет вероятностей слов в спаме и хаме с Лапласовым сглаживанием\n",
    "        spam_word_counts = np.sum(spam_texts, axis=0) + self.alpha\n",
    "        ham_word_counts = np.sum(ham_texts, axis=0) + self.alpha\n",
    "        total_spam_words = np.sum(spam_word_counts)\n",
    "        total_ham_words = np.sum(ham_word_counts)\n",
    "        \n",
    "        # Вероятности слов для каждого класса\n",
    "        self.word_prob_spam = spam_word_counts / total_spam_words\n",
    "        self.word_prob_ham = ham_word_counts / total_ham_words\n",
    "\n",
    "    def spam_text(self, text):\n",
    "        \"\"\"\n",
    "        text - текст для классификации.\n",
    "        Возвращает вероятность того, что текст является спамом.\n",
    "        \"\"\"\n",
    "        v = CountVectorizer(vocabulary=self.words)\n",
    "        x = v.transform([text]).toarray()[0]\n",
    "\n",
    "        # Логарифмы вероятностей для численной стабильности\n",
    "        log_p_spam = np.log(self.p_spam)\n",
    "        log_p_ham = np.log(self.p_ham)\n",
    "\n",
    "        for i, word_count in enumerate(x):\n",
    "            if word_count > 0:\n",
    "                log_p_spam += word_count * np.log(self.word_prob_spam[i])\n",
    "                log_p_ham += word_count * np.log(self.word_prob_ham[i])\n",
    "\n",
    "        # Вероятность того, что текст - спам (по правилу Байеса)\n",
    "        return np.exp(log_p_spam) / (np.exp(log_p_spam) + np.exp(log_p_ham))\n",
    "\n",
    "    def check(self, texts, labels):\n",
    "        \"\"\"\n",
    "        texts - список текстов для проверки.\n",
    "        labels - истинные метки классов.\n",
    "        Вычисляет accuracy (точность) и confusion matrix.\n",
    "        \"\"\"\n",
    "        predictions = [self.spam_text(text) > 0.5 for text in texts]\n",
    "        true_labels = np.array(labels) == 'spam'\n",
    "        \n",
    "        # Преобразование `predictions` и `true_labels` в булевы массивы\n",
    "        predictions = np.array(predictions)\n",
    "        true_labels = np.array(true_labels)\n",
    "\n",
    "        tp = np.sum((predictions == True) & (true_labels == True))  # True Positives\n",
    "        tn = np.sum((predictions == False) & (true_labels == False))  # True Negatives\n",
    "        fp = np.sum((predictions == True) & (true_labels == False))  # False Positives\n",
    "        fn = np.sum((predictions == False) & (true_labels == True))  # False Negatives\n",
    "\n",
    "        confusion_matrix = np.array([[tp, fp], [fn, tn]])\n",
    "\n",
    "        accuracy = (tp + tn) / len(labels)\n",
    "        precision = tp / (tp + fp) if (tp + fp) > 0 else 0\n",
    "        recall = tp / (tp + fn) if (tp + fn) > 0 else 0\n",
    "        f1 = 2 * (precision * recall) / (precision + recall) if (precision + recall) > 0 else 0\n",
    "\n",
    "        return confusion_matrix, accuracy, precision, recall, f1\n",
    "\n"
   ]
  },
  {
   "cell_type": "markdown",
   "metadata": {},
   "source": [
    "### Создадим и обучим модель"
   ]
  },
  {
   "cell_type": "code",
   "execution_count": 100,
   "metadata": {},
   "outputs": [],
   "source": [
    "bc = BayesianClassifier()\n",
    "bc.fit(x_train, y_train)"
   ]
  },
  {
   "cell_type": "markdown",
   "metadata": {},
   "source": [
    "### Получим оценки метрик"
   ]
  },
  {
   "cell_type": "code",
   "execution_count": 102,
   "metadata": {},
   "outputs": [
    {
     "name": "stdout",
     "output_type": "stream",
     "text": [
      "Confusion Matrix:\n",
      " [[136   1]\n",
      " [  9 969]]\n",
      "Accuracy: 0.9910313901345291\n",
      "Precision: 0.9927007299270073\n",
      "Recall: 0.9379310344827586\n",
      "F1-score: 0.9645390070921986\n"
     ]
    }
   ],
   "source": [
    "confusion_matrix, accuracy, precision, recall, f1 = bc.check(x_test, y_test)\n",
    "\n",
    "print(\"Confusion Matrix:\\n\", confusion_matrix)\n",
    "print(\"Accuracy:\", accuracy)\n",
    "print(\"Precision:\", precision)\n",
    "print(\"Recall:\", recall)\n",
    "print(\"F1-score:\", f1)"
   ]
  },
  {
   "cell_type": "markdown",
   "metadata": {},
   "source": [
    "### Пример работы на наших новых данных"
   ]
  },
  {
   "cell_type": "code",
   "execution_count": 103,
   "metadata": {},
   "outputs": [
    {
     "name": "stdout",
     "output_type": "stream",
     "text": [
      "Spam probability:\n",
      "0.9999999981190751\n",
      "0.9991243336510646\n",
      "0.9903320439742952\n",
      "\n",
      "Ham probability:\n",
      "0.0005856311114311154\n",
      "0.001217586361458292\n",
      "0.013246221555832945\n",
      "0.0016451627410237766\n"
     ]
    }
   ],
   "source": [
    "# Спамовые сообщения\n",
    "spam_texts = [\n",
    "    \"Congratulations! You've won a $1000 gift card. Call now to claim your prize.\",\n",
    "    \"Dear user, your account has been compromised. Click the link to verify your details.\",\n",
    "    \"Win a free vacation by entering our sweepstakes. No purchase necessary.\"\n",
    "]\n",
    "\n",
    "# Не спамовые сообщения\n",
    "ham_texts = [\n",
    "    \"Hello, how are you?\",\n",
    "    \"Let's meet for lunch\",\n",
    "    \"Reminder: Your doctor's appointment is scheduled for next Monday at 2 PM.\",\n",
    "    \"Can you send me the latest version of the presentation? Thanks!\"\n",
    "]\n",
    "\n",
    "print(\"Spam probability:\")\n",
    "for text in spam_texts:\n",
    "    print(bc.spam_text(text))\n",
    "\n",
    "print(\"\\nHam probability:\")\n",
    "for text in ham_texts:\n",
    "    print(bc.spam_text(text))"
   ]
  }
 ],
 "metadata": {
  "kernelspec": {
   "display_name": "Python 3",
   "language": "python",
   "name": "python3"
  },
  "language_info": {
   "codemirror_mode": {
    "name": "ipython",
    "version": 3
   },
   "file_extension": ".py",
   "mimetype": "text/x-python",
   "name": "python",
   "nbconvert_exporter": "python",
   "pygments_lexer": "ipython3",
   "version": "3.12.2"
  }
 },
 "nbformat": 4,
 "nbformat_minor": 2
}
